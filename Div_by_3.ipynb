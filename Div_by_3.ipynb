{
 "cells": [
  {
   "cell_type": "markdown",
   "id": "202dad70-5db0-44ef-b5a5-5325539cb10a",
   "metadata": {},
   "source": [
    "#### PA 2"
   ]
  },
  {
   "cell_type": "code",
   "execution_count": 1,
   "id": "b764f7da-3d9b-401c-adba-a602c97b6a46",
   "metadata": {},
   "outputs": [
    {
     "name": "stdout",
     "output_type": "stream",
     "text": [
      "10x10 Array of Squares of the First 100 Positive Integers:\n",
      " [[    1     4     9    16    25    36    49    64    81   100]\n",
      " [  121   144   169   196   225   256   289   324   361   400]\n",
      " [  441   484   529   576   625   676   729   784   841   900]\n",
      " [  961  1024  1089  1156  1225  1296  1369  1444  1521  1600]\n",
      " [ 1681  1764  1849  1936  2025  2116  2209  2304  2401  2500]\n",
      " [ 2601  2704  2809  2916  3025  3136  3249  3364  3481  3600]\n",
      " [ 3721  3844  3969  4096  4225  4356  4489  4624  4761  4900]\n",
      " [ 5041  5184  5329  5476  5625  5776  5929  6084  6241  6400]\n",
      " [ 6561  6724  6889  7056  7225  7396  7569  7744  7921  8100]\n",
      " [ 8281  8464  8649  8836  9025  9216  9409  9604  9801 10000]]\n",
      "\n",
      "Elements Divisible by 3:\n",
      " [   9   36   81  144  225  324  441  576  729  900 1089 1296 1521 1764\n",
      " 2025 2304 2601 2916 3249 3600 3969 4356 4761 5184 5625 6084 6561 7056\n",
      " 7569 8100 8649 9216 9801]\n",
      "\n",
      "Loaded Elements Divisible by 3 from File:\n",
      " [   9   36   81  144  225  324  441  576  729  900 1089 1296 1521 1764\n",
      " 2025 2304 2601 2916 3249 3600 3969 4356 4761 5184 5625 6084 6561 7056\n",
      " 7569 8100 8649 9216 9801]\n"
     ]
    }
   ],
   "source": [
    "# Divisible by 3 Problem\n",
    "\n",
    "import numpy as np  \n",
    "\n",
    "# Create 10x10 ndarray of squares of integers from 1 to 100\n",
    "A = np.arange(1, 101)**2\n",
    "A = A.reshape((10, 10))  # Reshape into a 10x10 array\n",
    "\n",
    "# Output: 10x10 array\n",
    "print(\"10x10 Array of Squares of the First 100 Positive Integers:\\n\", A)\n",
    "\n",
    "# Determine elements divisible by 3 using modulo operation\n",
    "div_by_3 = A[A % 3 == 0]\n",
    "\n",
    "# Output: Elements divisible by 3\n",
    "print(\"\\nElements Divisible by 3:\\n\", div_by_3)\n",
    "\n",
    "# Save results to a .npy file\n",
    "np.save('div_by_3.npy', div_by_3)\n",
    "\n",
    "# Load and verify the saved array\n",
    "loaded_div_by_3 = np.load('div_by_3.npy')\n",
    "print(\"\\nLoaded Elements Divisible by 3 from File:\\n\", loaded_div_by_3)\n"
   ]
  }
 ],
 "metadata": {
  "kernelspec": {
   "display_name": "Python [conda env:base] *",
   "language": "python",
   "name": "conda-base-py"
  },
  "language_info": {
   "codemirror_mode": {
    "name": "ipython",
    "version": 3
   },
   "file_extension": ".py",
   "mimetype": "text/x-python",
   "name": "python",
   "nbconvert_exporter": "python",
   "pygments_lexer": "ipython3",
   "version": "3.13.5"
  }
 },
 "nbformat": 4,
 "nbformat_minor": 5
}
