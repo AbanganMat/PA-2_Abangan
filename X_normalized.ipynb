{
 "cells": [
  {
   "cell_type": "markdown",
   "id": "ea61413d-431b-415e-85bb-4c57992c246e",
   "metadata": {},
   "source": [
    "#### PA Assignment 2"
   ]
  },
  {
   "cell_type": "code",
   "execution_count": 2,
   "id": "e4a3f790-237a-4f0d-9c37-525d054eee2b",
   "metadata": {},
   "outputs": [
    {
     "name": "stdout",
     "output_type": "stream",
     "text": [
      "Original Array:\n",
      " [[0.61789604 0.67184561 0.52557368 0.84009505 0.25883287]\n",
      " [0.25956534 0.54276179 0.4956852  0.14125323 0.79948448]\n",
      " [0.33677567 0.12903058 0.29660405 0.10840156 0.27493186]\n",
      " [0.64313878 0.04910352 0.2549344  0.46909685 0.45516488]\n",
      " [0.57394061 0.93016544 0.61356249 0.26762854 0.29421605]]\n",
      "\n",
      "Normalized Array:\n",
      " [[ 0.78185509  1.01121235  0.38936261  1.72649569 -0.74463975]\n",
      " [-0.74152578  0.46243489  0.26229688 -1.24450921  1.55384689]\n",
      " [-0.41327942 -1.29647169 -0.58406212 -1.38417238 -0.67619767]\n",
      " [ 0.88917024 -1.63626772 -0.76121342  0.14926116  0.09003178]\n",
      " [ 0.5949862   2.10941434  0.76343179 -0.70724648 -0.59421426]]\n",
      "\n",
      "Loaded Normalized Array from File:\n",
      " [[ 0.78185509  1.01121235  0.38936261  1.72649569 -0.74463975]\n",
      " [-0.74152578  0.46243489  0.26229688 -1.24450921  1.55384689]\n",
      " [-0.41327942 -1.29647169 -0.58406212 -1.38417238 -0.67619767]\n",
      " [ 0.88917024 -1.63626772 -0.76121342  0.14926116  0.09003178]\n",
      " [ 0.5949862   2.10941434  0.76343179 -0.70724648 -0.59421426]]\n"
     ]
    }
   ],
   "source": [
    "# Normalization Problem\n",
    "\n",
    "import numpy as np\n",
    "\n",
    "# Create 5x5 ndarray with random values\n",
    "X = np.random.rand(5, 5)\n",
    "\n",
    "# Calculate mean and standard deviation\n",
    "mean_X = X.mean()\n",
    "std_X = X.std()\n",
    "\n",
    "# Check for standard deviation to avoid division by zero\n",
    "if std_X == 0:\n",
    "    print(\"Standard deviation is zero, normalization cannot be performed.\")\n",
    "else:\n",
    "    # Normalize array\n",
    "    X_normalized = (X - mean_X) / std_X\n",
    "\n",
    "    # Save normalized array to a .npy file\n",
    "    np.save('X_normalized.npy', X_normalized)\n",
    "\n",
    "    # Output: Original and Normalized Array\n",
    "    print(\"Original Array:\\n\", X)\n",
    "    print(\"\\nNormalized Array:\\n\", X_normalized)\n",
    "\n",
    "    # Load and verify the saved normalized array\n",
    "    loaded_X_normalized = np.load('X_normalized.npy')\n",
    "    print(\"\\nLoaded Normalized Array from File:\\n\", loaded_X_normalized)\n"
   ]
  }
 ],
 "metadata": {
  "kernelspec": {
   "display_name": "Python [conda env:base] *",
   "language": "python",
   "name": "conda-base-py"
  },
  "language_info": {
   "codemirror_mode": {
    "name": "ipython",
    "version": 3
   },
   "file_extension": ".py",
   "mimetype": "text/x-python",
   "name": "python",
   "nbconvert_exporter": "python",
   "pygments_lexer": "ipython3",
   "version": "3.13.5"
  }
 },
 "nbformat": 4,
 "nbformat_minor": 5
}
